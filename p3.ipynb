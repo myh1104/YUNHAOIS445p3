{
 "cells": [
  {
   "cell_type": "markdown",
   "metadata": {},
   "source": [
    "# IMDB TOP MOVIE IN 2021"
   ]
  },
  {
   "cell_type": "markdown",
   "metadata": {},
   "source": [
    "## Introduction"
   ]
  },
  {
   "cell_type": "markdown",
   "metadata": {},
   "source": [
    "### Author: Yunhao Mei"
   ]
  },
  {
   "cell_type": "markdown",
   "metadata": {},
   "source": [
    "#### Movies are a form of relaxing entertainment that originated in the early 19th century. And through a series of technological development to form the present appearance. 1891 Inventor Thomas Edison and lab assistant William Dickson invented the so-called kinetoscope. The kinetoscope was a cabinet with a window through which individual viewers could experience the illusion of a moving  image. As movie projectors became more popular, two French brothers, Auguste and Louis Lumiere, modified them in 1985 to make them lighter. By the end of the year, Louis had put on the world's first commercial film."
   ]
  },
  {
   "cell_type": "markdown",
   "metadata": {},
   "source": [
    "#### As the demand for movies increased, production wages came into being. This also meant the rise of commercial films. As cinema became more popular among the middle class, and as feature films began to keep audiences in their seats longer, the cinema was born. Because Hollywood is an ideal location for filmmaking: the climate is mild and sunny, and the land is rich and there are many different terrains, it is the largest filmmaking location."
   ]
  },
  {
   "cell_type": "markdown",
   "metadata": {},
   "source": [
    "#### With the development of the film industry, there are more and more movies, and the evaluation of the movie has become a reference of whether to watch the movie or not. Now, there are many websites that recommend movies, such as IMDB, whose ratings are rated by registered users. While these sites' reviews of films are not entirely impartial, they serve as a range of references."
   ]
  },
  {
   "cell_type": "markdown",
   "metadata": {},
   "source": [
    "## About the Data"
   ]
  },
  {
   "cell_type": "markdown",
   "metadata": {},
   "source": [
    "####  This is a public data on Kaggle that records movie information on IMDB. The data records the top 250 movies for each year from 1996 to 2021. For research data, the 2021 data is even more time-sensitive. This article mainly discusses the number of movies each year, the highest-grossing movies and the score. Data is not everything, and this article is based only on this data set.\n",
    "https://www.kaggle.com/datasets/mustafacicek/imdb-top-250-lists-1996-2020"
   ]
  },
  {
   "cell_type": "markdown",
   "metadata": {},
   "source": [
    "### Data processing"
   ]
  },
  {
   "cell_type": "code",
   "execution_count": 4,
   "metadata": {},
   "outputs": [],
   "source": [
    "import pandas as pd\n",
    "import bqplot"
   ]
  },
  {
   "cell_type": "code",
   "execution_count": 5,
   "metadata": {
    "pycharm": {
     "name": "#%%\n"
    }
   },
   "outputs": [
    {
     "data": {
      "text/html": [
       "<div>\n",
       "<style scoped>\n",
       "    .dataframe tbody tr th:only-of-type {\n",
       "        vertical-align: middle;\n",
       "    }\n",
       "\n",
       "    .dataframe tbody tr th {\n",
       "        vertical-align: top;\n",
       "    }\n",
       "\n",
       "    .dataframe thead th {\n",
       "        text-align: right;\n",
       "    }\n",
       "</style>\n",
       "<table border=\"1\" class=\"dataframe\">\n",
       "  <thead>\n",
       "    <tr style=\"text-align: right;\">\n",
       "      <th></th>\n",
       "      <th>Ranking</th>\n",
       "      <th>IMDByear</th>\n",
       "      <th>IMDBlink</th>\n",
       "      <th>Title</th>\n",
       "      <th>Date</th>\n",
       "      <th>RunTime</th>\n",
       "      <th>Genre</th>\n",
       "      <th>Rating</th>\n",
       "      <th>Score</th>\n",
       "      <th>Votes</th>\n",
       "      <th>Gross</th>\n",
       "      <th>Director</th>\n",
       "      <th>Cast1</th>\n",
       "      <th>Cast2</th>\n",
       "      <th>Cast3</th>\n",
       "      <th>Cast4</th>\n",
       "    </tr>\n",
       "  </thead>\n",
       "  <tbody>\n",
       "    <tr>\n",
       "      <th>6250</th>\n",
       "      <td>1</td>\n",
       "      <td>2021</td>\n",
       "      <td>/title/tt0111161/</td>\n",
       "      <td>The Shawshank Redemption</td>\n",
       "      <td>1994</td>\n",
       "      <td>142</td>\n",
       "      <td>Drama</td>\n",
       "      <td>9.3</td>\n",
       "      <td>80.0</td>\n",
       "      <td>2529673</td>\n",
       "      <td>28.34</td>\n",
       "      <td>Frank Darabont</td>\n",
       "      <td>Tim Robbins</td>\n",
       "      <td>Morgan Freeman</td>\n",
       "      <td>Bob Gunton</td>\n",
       "      <td>William Sadler</td>\n",
       "    </tr>\n",
       "    <tr>\n",
       "      <th>6251</th>\n",
       "      <td>2</td>\n",
       "      <td>2021</td>\n",
       "      <td>/title/tt0068646/</td>\n",
       "      <td>The Godfather</td>\n",
       "      <td>1972</td>\n",
       "      <td>175</td>\n",
       "      <td>Crime, Drama</td>\n",
       "      <td>9.2</td>\n",
       "      <td>100.0</td>\n",
       "      <td>1741574</td>\n",
       "      <td>134.97</td>\n",
       "      <td>Francis Ford Coppola</td>\n",
       "      <td>Marlon Brando</td>\n",
       "      <td>Al Pacino</td>\n",
       "      <td>James Caan</td>\n",
       "      <td>Diane Keaton</td>\n",
       "    </tr>\n",
       "    <tr>\n",
       "      <th>6252</th>\n",
       "      <td>3</td>\n",
       "      <td>2021</td>\n",
       "      <td>/title/tt0071562/</td>\n",
       "      <td>The Godfather: Part II</td>\n",
       "      <td>1974</td>\n",
       "      <td>202</td>\n",
       "      <td>Crime, Drama</td>\n",
       "      <td>9.0</td>\n",
       "      <td>90.0</td>\n",
       "      <td>1208326</td>\n",
       "      <td>57.30</td>\n",
       "      <td>Francis Ford Coppola</td>\n",
       "      <td>Al Pacino</td>\n",
       "      <td>Robert De Niro</td>\n",
       "      <td>Robert Duvall</td>\n",
       "      <td>Diane Keaton</td>\n",
       "    </tr>\n",
       "    <tr>\n",
       "      <th>6253</th>\n",
       "      <td>4</td>\n",
       "      <td>2021</td>\n",
       "      <td>/title/tt0468569/</td>\n",
       "      <td>The Dark Knight</td>\n",
       "      <td>2008</td>\n",
       "      <td>152</td>\n",
       "      <td>Action, Crime, Drama</td>\n",
       "      <td>9.0</td>\n",
       "      <td>84.0</td>\n",
       "      <td>2480130</td>\n",
       "      <td>534.86</td>\n",
       "      <td>Christopher Nolan</td>\n",
       "      <td>Christian Bale</td>\n",
       "      <td>Heath Ledger</td>\n",
       "      <td>Aaron Eckhart</td>\n",
       "      <td>Michael Caine</td>\n",
       "    </tr>\n",
       "    <tr>\n",
       "      <th>6254</th>\n",
       "      <td>5</td>\n",
       "      <td>2021</td>\n",
       "      <td>/title/tt0050083/</td>\n",
       "      <td>12 Angry Men</td>\n",
       "      <td>1957</td>\n",
       "      <td>96</td>\n",
       "      <td>Crime, Drama</td>\n",
       "      <td>9.0</td>\n",
       "      <td>96.0</td>\n",
       "      <td>747360</td>\n",
       "      <td>4.36</td>\n",
       "      <td>Sidney Lumet</td>\n",
       "      <td>Henry Fonda</td>\n",
       "      <td>Lee J. Cobb</td>\n",
       "      <td>Martin Balsam</td>\n",
       "      <td>John Fiedler</td>\n",
       "    </tr>\n",
       "    <tr>\n",
       "      <th>...</th>\n",
       "      <td>...</td>\n",
       "      <td>...</td>\n",
       "      <td>...</td>\n",
       "      <td>...</td>\n",
       "      <td>...</td>\n",
       "      <td>...</td>\n",
       "      <td>...</td>\n",
       "      <td>...</td>\n",
       "      <td>...</td>\n",
       "      <td>...</td>\n",
       "      <td>...</td>\n",
       "      <td>...</td>\n",
       "      <td>...</td>\n",
       "      <td>...</td>\n",
       "      <td>...</td>\n",
       "      <td>...</td>\n",
       "    </tr>\n",
       "    <tr>\n",
       "      <th>6495</th>\n",
       "      <td>246</td>\n",
       "      <td>2021</td>\n",
       "      <td>/title/tt0058946/</td>\n",
       "      <td>The Battle of Algiers</td>\n",
       "      <td>1966</td>\n",
       "      <td>121</td>\n",
       "      <td>Drama, War</td>\n",
       "      <td>8.1</td>\n",
       "      <td>96.0</td>\n",
       "      <td>57995</td>\n",
       "      <td>0.06</td>\n",
       "      <td>Gillo Pontecorvo</td>\n",
       "      <td>Brahim Hadjadj</td>\n",
       "      <td>Jean Martin</td>\n",
       "      <td>Yacef Saadi</td>\n",
       "      <td>Samia Kerbash</td>\n",
       "    </tr>\n",
       "    <tr>\n",
       "      <th>6496</th>\n",
       "      <td>247</td>\n",
       "      <td>2021</td>\n",
       "      <td>/title/tt0050783/</td>\n",
       "      <td>Nights of Cabiria</td>\n",
       "      <td>1957</td>\n",
       "      <td>110</td>\n",
       "      <td>Drama</td>\n",
       "      <td>8.1</td>\n",
       "      <td>NaN</td>\n",
       "      <td>47318</td>\n",
       "      <td>0.75</td>\n",
       "      <td>Federico Fellini</td>\n",
       "      <td>Giulietta Masina</td>\n",
       "      <td>François Périer</td>\n",
       "      <td>Franca Marzi</td>\n",
       "      <td>Dorian Gray</td>\n",
       "    </tr>\n",
       "    <tr>\n",
       "      <th>6497</th>\n",
       "      <td>248</td>\n",
       "      <td>2021</td>\n",
       "      <td>/title/tt0093779/</td>\n",
       "      <td>The Princess Bride</td>\n",
       "      <td>1987</td>\n",
       "      <td>98</td>\n",
       "      <td>Adventure, Family, Fantasy</td>\n",
       "      <td>8.1</td>\n",
       "      <td>77.0</td>\n",
       "      <td>416207</td>\n",
       "      <td>30.86</td>\n",
       "      <td>Rob Reiner</td>\n",
       "      <td>Cary Elwes</td>\n",
       "      <td>Mandy Patinkin</td>\n",
       "      <td>Robin Wright</td>\n",
       "      <td>Chris Sarandon</td>\n",
       "    </tr>\n",
       "    <tr>\n",
       "      <th>6498</th>\n",
       "      <td>249</td>\n",
       "      <td>2021</td>\n",
       "      <td>/title/tt7060344/</td>\n",
       "      <td>Raatchasan</td>\n",
       "      <td>2018</td>\n",
       "      <td>170</td>\n",
       "      <td>Crime, Drama, Mystery</td>\n",
       "      <td>8.4</td>\n",
       "      <td>NaN</td>\n",
       "      <td>37474</td>\n",
       "      <td>NaN</td>\n",
       "      <td>Ram Kumar</td>\n",
       "      <td>Vishnu Vishal</td>\n",
       "      <td>Amala Paul</td>\n",
       "      <td>Radha Ravi</td>\n",
       "      <td>Sangili Murugan</td>\n",
       "    </tr>\n",
       "    <tr>\n",
       "      <th>6499</th>\n",
       "      <td>250</td>\n",
       "      <td>2021</td>\n",
       "      <td>/title/tt10280296/</td>\n",
       "      <td>Sardar Udham</td>\n",
       "      <td>2021</td>\n",
       "      <td>164</td>\n",
       "      <td>Biography, Crime, Drama</td>\n",
       "      <td>8.7</td>\n",
       "      <td>NaN</td>\n",
       "      <td>34889</td>\n",
       "      <td>NaN</td>\n",
       "      <td>Shoojit Sircar</td>\n",
       "      <td>Vicky Kaushal</td>\n",
       "      <td>Banita Sandhu</td>\n",
       "      <td>Shaun Scott</td>\n",
       "      <td>Stephen Hogan</td>\n",
       "    </tr>\n",
       "  </tbody>\n",
       "</table>\n",
       "<p>250 rows × 16 columns</p>\n",
       "</div>"
      ],
      "text/plain": [
       "      Ranking  IMDByear            IMDBlink                     Title  Date  \\\n",
       "6250        1      2021   /title/tt0111161/  The Shawshank Redemption  1994   \n",
       "6251        2      2021   /title/tt0068646/             The Godfather  1972   \n",
       "6252        3      2021   /title/tt0071562/    The Godfather: Part II  1974   \n",
       "6253        4      2021   /title/tt0468569/           The Dark Knight  2008   \n",
       "6254        5      2021   /title/tt0050083/              12 Angry Men  1957   \n",
       "...       ...       ...                 ...                       ...   ...   \n",
       "6495      246      2021   /title/tt0058946/     The Battle of Algiers  1966   \n",
       "6496      247      2021   /title/tt0050783/         Nights of Cabiria  1957   \n",
       "6497      248      2021   /title/tt0093779/        The Princess Bride  1987   \n",
       "6498      249      2021   /title/tt7060344/                Raatchasan  2018   \n",
       "6499      250      2021  /title/tt10280296/              Sardar Udham  2021   \n",
       "\n",
       "      RunTime                       Genre  Rating  Score    Votes   Gross  \\\n",
       "6250      142                       Drama     9.3   80.0  2529673   28.34   \n",
       "6251      175                Crime, Drama     9.2  100.0  1741574  134.97   \n",
       "6252      202                Crime, Drama     9.0   90.0  1208326   57.30   \n",
       "6253      152        Action, Crime, Drama     9.0   84.0  2480130  534.86   \n",
       "6254       96                Crime, Drama     9.0   96.0   747360    4.36   \n",
       "...       ...                         ...     ...    ...      ...     ...   \n",
       "6495      121                  Drama, War     8.1   96.0    57995    0.06   \n",
       "6496      110                       Drama     8.1    NaN    47318    0.75   \n",
       "6497       98  Adventure, Family, Fantasy     8.1   77.0   416207   30.86   \n",
       "6498      170       Crime, Drama, Mystery     8.4    NaN    37474     NaN   \n",
       "6499      164     Biography, Crime, Drama     8.7    NaN    34889     NaN   \n",
       "\n",
       "                  Director              Cast1              Cast2  \\\n",
       "6250        Frank Darabont        Tim Robbins     Morgan Freeman   \n",
       "6251  Francis Ford Coppola      Marlon Brando          Al Pacino   \n",
       "6252  Francis Ford Coppola          Al Pacino     Robert De Niro   \n",
       "6253     Christopher Nolan     Christian Bale       Heath Ledger   \n",
       "6254          Sidney Lumet        Henry Fonda        Lee J. Cobb   \n",
       "...                    ...                ...                ...   \n",
       "6495      Gillo Pontecorvo     Brahim Hadjadj        Jean Martin   \n",
       "6496      Federico Fellini   Giulietta Masina    François Périer   \n",
       "6497            Rob Reiner         Cary Elwes     Mandy Patinkin   \n",
       "6498             Ram Kumar      Vishnu Vishal         Amala Paul   \n",
       "6499        Shoojit Sircar      Vicky Kaushal      Banita Sandhu   \n",
       "\n",
       "                Cast3              Cast4  \n",
       "6250       Bob Gunton     William Sadler  \n",
       "6251       James Caan       Diane Keaton  \n",
       "6252    Robert Duvall       Diane Keaton  \n",
       "6253    Aaron Eckhart      Michael Caine  \n",
       "6254    Martin Balsam       John Fiedler  \n",
       "...               ...                ...  \n",
       "6495      Yacef Saadi      Samia Kerbash  \n",
       "6496     Franca Marzi        Dorian Gray  \n",
       "6497     Robin Wright     Chris Sarandon  \n",
       "6498       Radha Ravi    Sangili Murugan  \n",
       "6499      Shaun Scott      Stephen Hogan  \n",
       "\n",
       "[250 rows x 16 columns]"
      ]
     },
     "execution_count": 5,
     "metadata": {},
     "output_type": "execute_result"
    }
   ],
   "source": [
    "#read the data\n",
    "imdb_top = pd.read_csv(\"imdbTop250.csv\")\n",
    "imdb_top_2021 = imdb_top.query('IMDByear==2021')\n",
    "imdb_top_2021"
   ]
  },
  {
   "cell_type": "code",
   "execution_count": 6,
   "metadata": {
    "pycharm": {
     "name": "#%%\n"
    }
   },
   "outputs": [
    {
     "data": {
      "text/html": [
       "<div>\n",
       "<style scoped>\n",
       "    .dataframe tbody tr th:only-of-type {\n",
       "        vertical-align: middle;\n",
       "    }\n",
       "\n",
       "    .dataframe tbody tr th {\n",
       "        vertical-align: top;\n",
       "    }\n",
       "\n",
       "    .dataframe thead th {\n",
       "        text-align: right;\n",
       "    }\n",
       "</style>\n",
       "<table border=\"1\" class=\"dataframe\">\n",
       "  <thead>\n",
       "    <tr style=\"text-align: right;\">\n",
       "      <th></th>\n",
       "      <th>Date</th>\n",
       "      <th>Count</th>\n",
       "    </tr>\n",
       "  </thead>\n",
       "  <tbody>\n",
       "    <tr>\n",
       "      <th>0</th>\n",
       "      <td>1921</td>\n",
       "      <td>1</td>\n",
       "    </tr>\n",
       "    <tr>\n",
       "      <th>1</th>\n",
       "      <td>1922</td>\n",
       "      <td>0</td>\n",
       "    </tr>\n",
       "    <tr>\n",
       "      <th>2</th>\n",
       "      <td>1923</td>\n",
       "      <td>0</td>\n",
       "    </tr>\n",
       "    <tr>\n",
       "      <th>3</th>\n",
       "      <td>1924</td>\n",
       "      <td>1</td>\n",
       "    </tr>\n",
       "    <tr>\n",
       "      <th>4</th>\n",
       "      <td>1925</td>\n",
       "      <td>1</td>\n",
       "    </tr>\n",
       "    <tr>\n",
       "      <th>...</th>\n",
       "      <td>...</td>\n",
       "      <td>...</td>\n",
       "    </tr>\n",
       "    <tr>\n",
       "      <th>95</th>\n",
       "      <td>2016</td>\n",
       "      <td>5</td>\n",
       "    </tr>\n",
       "    <tr>\n",
       "      <th>96</th>\n",
       "      <td>2017</td>\n",
       "      <td>3</td>\n",
       "    </tr>\n",
       "    <tr>\n",
       "      <th>97</th>\n",
       "      <td>2018</td>\n",
       "      <td>6</td>\n",
       "    </tr>\n",
       "    <tr>\n",
       "      <th>98</th>\n",
       "      <td>2019</td>\n",
       "      <td>6</td>\n",
       "    </tr>\n",
       "    <tr>\n",
       "      <th>99</th>\n",
       "      <td>2020</td>\n",
       "      <td>2</td>\n",
       "    </tr>\n",
       "  </tbody>\n",
       "</table>\n",
       "<p>100 rows × 2 columns</p>\n",
       "</div>"
      ],
      "text/plain": [
       "    Date  Count\n",
       "0   1921      1\n",
       "1   1922      0\n",
       "2   1923      0\n",
       "3   1924      1\n",
       "4   1925      1\n",
       "..   ...    ...\n",
       "95  2016      5\n",
       "96  2017      3\n",
       "97  2018      6\n",
       "98  2019      6\n",
       "99  2020      2\n",
       "\n",
       "[100 rows x 2 columns]"
      ]
     },
     "execution_count": 6,
     "metadata": {},
     "output_type": "execute_result"
    }
   ],
   "source": [
    "# no of movie on dif year\n",
    "title_groupby_date = imdb_top_2021.groupby('Date')['Title'].count()\n",
    "title_groupby_date.index = title_groupby_date.index.astype(int)\n",
    "max_year = title_groupby_date.index.max()\n",
    "min_year = title_groupby_date.index.min()\n",
    "title_groupby_date[1921]\n",
    "\n",
    "title_groupby_date2 = pd.DataFrame({'Date': [i for i in range(min_year, max_year)],\n",
    "                                    \"Count\": [title_groupby_date[i] if i in title_groupby_date.index else 0 for i in\n",
    "                                              range(min_year, max_year)]})\n",
    "\n",
    "title_groupby_date2"
   ]
  },
  {
   "cell_type": "markdown",
   "metadata": {},
   "source": [
    "## The year in which the selected films were released"
   ]
  },
  {
   "cell_type": "markdown",
   "metadata": {},
   "source": [
    "#### As a rule of thumb, the most popular movies in recent years should be almost none that old. Because it's a long way to go in the history of film. The number of movies grows every year, and the people who like them get older. New audiences find it hard to accept films that look old."
   ]
  },
  {
   "cell_type": "code",
   "execution_count": 11,
   "metadata": {
    "pycharm": {
     "name": "#%%\n"
    }
   },
   "outputs": [
    {
     "data": {
      "application/vnd.jupyter.widget-view+json": {
       "model_id": "435e9330a14b4e7982f63b9e700d9a19",
       "version_major": 2,
       "version_minor": 0
      },
      "text/plain": [
       "Figure(axes=[Axis(label='Date', scale=LinearScale()), Axis(label='Count', orientation='vertical', scale=Linear…"
      ]
     },
     "metadata": {},
     "output_type": "display_data"
    },
    {
     "data": {
      "application/vnd.jupyter.widget-view+json": {
       "model_id": "8174222d868144b985c7b37fadf3038c",
       "version_major": 2,
       "version_minor": 0
      },
      "text/plain": [
       "Figure(axes=[Axis(label='Date', scale=LinearScale()), Axis(label='Count', orientation='vertical', scale=Linear…"
      ]
     },
     "metadata": {},
     "output_type": "display_data"
    }
   ],
   "source": [
    "#year-number\n",
    "x_sc = bqplot.LinearScale()\n",
    "y_sc = bqplot.LinearScale()\n",
    "\n",
    "x_ax = bqplot.Axis(scale=x_sc, label='Date')\n",
    "y_ax = bqplot.Axis(scale=y_sc, label='Count', orientation='vertical')\n",
    "\n",
    "tt = bqplot.Tooltip(fields=['x', 'y'], labels=['Date', 'Count'], show_labels=True)\n",
    "\n",
    "line_title_count = bqplot.Lines(x=title_groupby_date2['Date'], y=title_groupby_date2['Count'], data=title_groupby_date2,\n",
    "                                scales={'x': x_sc, 'y': y_sc}, tooltip=tt)\n",
    "\n",
    "fig = bqplot.Figure(marks=[line_title_count], axes=[x_ax, y_ax], title='Number-Year')\n",
    "\n",
    "bar_title_count = bqplot.Bars(x=title_groupby_date2['Date'], y=title_groupby_date2['Count'], data=title_groupby_date2,\n",
    "                              scales={'x': x_sc, 'y': y_sc}, tooltip=tt)\n",
    "\n",
    "fig2 = bqplot.Figure(marks=[bar_title_count], axes=[x_ax, y_ax], title='Number-Year')\n",
    "display(fig, fig2)"
   ]
  },
  {
   "cell_type": "markdown",
   "metadata": {},
   "source": [
    "## Box office accumulated"
   ]
  },
  {
   "cell_type": "markdown",
   "metadata": {},
   "source": [
    "#### Box office has always been the most direct and intuitive way to evaluate movies.  In the nearly 100 years of film history, despite the development of time, inflation and even the influence of historical environment, the number of box office can also indicate the quality of a film to a certain extent.  The IMDB"
   ]
  },
  {
   "cell_type": "code",
   "execution_count": 12,
   "metadata": {
    "pycharm": {
     "name": "#%%\n"
    }
   },
   "outputs": [
    {
     "data": {
      "text/html": [
       "<div>\n",
       "<style scoped>\n",
       "    .dataframe tbody tr th:only-of-type {\n",
       "        vertical-align: middle;\n",
       "    }\n",
       "\n",
       "    .dataframe tbody tr th {\n",
       "        vertical-align: top;\n",
       "    }\n",
       "\n",
       "    .dataframe thead th {\n",
       "        text-align: right;\n",
       "    }\n",
       "</style>\n",
       "<table border=\"1\" class=\"dataframe\">\n",
       "  <thead>\n",
       "    <tr style=\"text-align: right;\">\n",
       "      <th></th>\n",
       "      <th>Title</th>\n",
       "      <th>Gross</th>\n",
       "    </tr>\n",
       "  </thead>\n",
       "  <tbody>\n",
       "    <tr>\n",
       "      <th>6325</th>\n",
       "      <td>Avengers: Endgame</td>\n",
       "      <td>858.37</td>\n",
       "    </tr>\n",
       "    <tr>\n",
       "      <th>6312</th>\n",
       "      <td>Avengers: Infinity War</td>\n",
       "      <td>678.82</td>\n",
       "    </tr>\n",
       "    <tr>\n",
       "      <th>6253</th>\n",
       "      <td>The Dark Knight</td>\n",
       "      <td>534.86</td>\n",
       "    </tr>\n",
       "    <tr>\n",
       "      <th>6322</th>\n",
       "      <td>The Dark Knight Rises</td>\n",
       "      <td>448.14</td>\n",
       "    </tr>\n",
       "    <tr>\n",
       "      <th>6288</th>\n",
       "      <td>The Lion King</td>\n",
       "      <td>422.78</td>\n",
       "    </tr>\n",
       "    <tr>\n",
       "      <th>6371</th>\n",
       "      <td>Toy Story 3</td>\n",
       "      <td>415.00</td>\n",
       "    </tr>\n",
       "    <tr>\n",
       "      <th>6416</th>\n",
       "      <td>Jurassic Park</td>\n",
       "      <td>402.45</td>\n",
       "    </tr>\n",
       "    <tr>\n",
       "      <th>6464</th>\n",
       "      <td>Harry Potter and the Deathly Hallows: Part 2</td>\n",
       "      <td>381.01</td>\n",
       "    </tr>\n",
       "    <tr>\n",
       "      <th>6426</th>\n",
       "      <td>Finding Nemo</td>\n",
       "      <td>380.84</td>\n",
       "    </tr>\n",
       "    <tr>\n",
       "      <th>6256</th>\n",
       "      <td>The Lord of the Rings: The Return of the King</td>\n",
       "      <td>377.85</td>\n",
       "    </tr>\n",
       "  </tbody>\n",
       "</table>\n",
       "</div>"
      ],
      "text/plain": [
       "                                              Title   Gross\n",
       "6325                              Avengers: Endgame  858.37\n",
       "6312                         Avengers: Infinity War  678.82\n",
       "6253                                The Dark Knight  534.86\n",
       "6322                          The Dark Knight Rises  448.14\n",
       "6288                                  The Lion King  422.78\n",
       "6371                                    Toy Story 3  415.00\n",
       "6416                                  Jurassic Park  402.45\n",
       "6464   Harry Potter and the Deathly Hallows: Part 2  381.01\n",
       "6426                                   Finding Nemo  380.84\n",
       "6256  The Lord of the Rings: The Return of the King  377.85"
      ]
     },
     "execution_count": 12,
     "metadata": {},
     "output_type": "execute_result"
    }
   ],
   "source": [
    "#top 10 box(gross)\n",
    "title_gross_top_10 = imdb_top_2021[['Title', 'Gross']].sort_values(by=['Gross'], ascending=False).head(10)\n",
    "title_gross_top_10"
   ]
  },
  {
   "cell_type": "code",
   "execution_count": 13,
   "metadata": {
    "pycharm": {
     "name": "#%%\n"
    }
   },
   "outputs": [
    {
     "data": {
      "application/vnd.jupyter.widget-view+json": {
       "model_id": "e45ed3e00185464ba7759420ea62b26c",
       "version_major": 2,
       "version_minor": 0
      },
      "text/plain": [
       "Figure(axes=[Axis(label='Title', scale=OrdinalScale(), tick_rotate=45), Axis(label='Gross', orientation='verti…"
      ]
     },
     "metadata": {},
     "output_type": "display_data"
    }
   ],
   "source": [
    "x_sc = bqplot.OrdinalScale()\n",
    "y_sc = bqplot.LinearScale()\n",
    "\n",
    "x_ax = bqplot.Axis(scale=x_sc, tick_rotate=45, label='Title')\n",
    "y_ax = bqplot.Axis(scale=y_sc, label='Gross', orientation='vertical')\n",
    "\n",
    "tt = bqplot.Tooltip(fields=['x', 'y'], labels=['Title', 'Gross'])\n",
    "\n",
    "line_title_count = bqplot.Bars(x=title_gross_top_10['Title'], y=title_gross_top_10['Gross'],\n",
    "                               scales={'x': x_sc, 'y': y_sc}, tooltip=tt)\n",
    "\n",
    "fig = bqplot.Figure(marks=[line_title_count], axes=[x_ax, y_ax], title='Gross Top10')\n",
    "\n",
    "display(fig)"
   ]
  },
  {
   "cell_type": "markdown",
   "metadata": {},
   "source": [
    "###                                                                            Avengers:Endgame"
   ]
  },
  {
   "cell_type": "markdown",
   "metadata": {},
   "source": [
    "![jupyter](https://upload.wikimedia.org/wikipedia/en/0/0d/Avengers_Endgame_poster.jpg)"
   ]
  },
  {
   "cell_type": "markdown",
   "metadata": {},
   "source": [
    "## The Movie Rating"
   ]
  },
  {
   "cell_type": "markdown",
   "metadata": {},
   "source": [
    "#### For movie ratings, there may be a big difference because of the different participants. Although many of the authoritative ratings are made by professional film critics, public opinion should also be a part of film ratings. The data is based on the top 250 movies rated on IMDB in 2021, and can be adjusted with a slider."
   ]
  },
  {
   "cell_type": "code",
   "execution_count": 14,
   "metadata": {
    "pycharm": {
     "name": "#%%\n"
    }
   },
   "outputs": [
    {
     "data": {
      "application/vnd.jupyter.widget-view+json": {
       "model_id": "d1529ea39b154242a116d4a99bd18b70",
       "version_major": 2,
       "version_minor": 0
      },
      "text/plain": [
       "VBox(children=(IntSlider(value=50, max=250), Figure(axes=[Axis(label='Title', scale=OrdinalScale(), tick_rotat…"
      ]
     },
     "metadata": {},
     "output_type": "display_data"
    }
   ],
   "source": [
    "import ipywidgets\n",
    "\n",
    "slider = ipywidgets.IntSlider(min=0, max=250, value=50, step=1)\n",
    "\n",
    "# rating\n",
    "title_rank_top_50 = imdb_top_2021[['Title', 'Rating']].sort_values(by=['Rating'], ascending=False).head(\n",
    "    slider.value)\n",
    "# draw\n",
    "x_sc = bqplot.OrdinalScale()\n",
    "y_sc = bqplot.LinearScale()\n",
    "\n",
    "x_ax = bqplot.Axis(scale=x_sc, tick_rotate=-45, label='Title')\n",
    "y_ax = bqplot.Axis(scale=y_sc, orientation='vertical', label='Rating')\n",
    "\n",
    "tt = bqplot.Tooltip(fields=['x', 'y'], labels=['Title', 'Rating'])\n",
    "# Link functions.\n",
    "scatters3 = bqplot.Scatter(x=title_rank_top_50['Title'], y=title_rank_top_50['Rating'],\n",
    "                               scales={'x': x_sc, 'y': y_sc}, tooltip=tt)\n",
    "def on_value_change(change):\n",
    "    if (change['name'] == 'value'):\n",
    "        title_rank_top_50 = imdb_top_2021[['Title', 'Rating']].sort_values(by=['Rating'], ascending=False).head(slider.value)\n",
    "        scatters3.x = title_rank_top_50['Title']\n",
    "        scatters3.y = title_rank_top_50['Rating']\n",
    "\n",
    "slider.observe(on_value_change, names='value')\n",
    "fig = bqplot.Figure(marks=[scatters3], axes=[x_ax, y_ax], title=('Rating N'))\n",
    "ipywidgets.VBox([slider,fig])\n"
   ]
  },
  {
   "cell_type": "markdown",
   "metadata": {},
   "source": [
    "### The Shawshank Redemption"
   ]
  },
  {
   "cell_type": "markdown",
   "metadata": {},
   "source": [
    "![jupyter](https://upload.wikimedia.org/wikipedia/en/8/81/ShawshankRedemptionMoviePoster.jpg)"
   ]
  },
  {
   "cell_type": "markdown",
   "metadata": {
    "pycharm": {
     "name": "#%%\n"
    }
   },
   "source": [
    "#### Through data analysis, we can also find that the highest box office is not necessarily the best evaluation, and the film with high score may not get good box office. In The 2021 review, The Shawshank Redemption still has The highest rating. As mentioned before, the box office of films is affected by many factors, just like the epidemic in recent years, which has caused a great impact on the film industry. When we look for movies to relax, we should pay attention to both box office and movie reviews."
   ]
  },
  {
   "cell_type": "code",
   "execution_count": null,
   "metadata": {},
   "outputs": [],
   "source": []
  }
 ],
 "metadata": {
  "kernelspec": {
   "display_name": "Python 3",
   "language": "python",
   "name": "python3"
  },
  "language_info": {
   "codemirror_mode": {
    "name": "ipython",
    "version": 3
   },
   "file_extension": ".py",
   "mimetype": "text/x-python",
   "name": "python",
   "nbconvert_exporter": "python",
   "pygments_lexer": "ipython3",
   "version": "3.8.8"
  }
 },
 "nbformat": 4,
 "nbformat_minor": 1
}
